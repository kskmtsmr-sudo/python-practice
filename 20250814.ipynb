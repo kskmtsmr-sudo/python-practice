{
  "nbformat": 4,
  "nbformat_minor": 0,
  "metadata": {
    "colab": {
      "provenance": [],
      "authorship_tag": "ABX9TyM5kThSGQP8MrmN//UVxL9p",
      "include_colab_link": true
    },
    "kernelspec": {
      "name": "python3",
      "display_name": "Python 3"
    },
    "language_info": {
      "name": "python"
    }
  },
  "cells": [
    {
      "cell_type": "markdown",
      "metadata": {
        "id": "view-in-github",
        "colab_type": "text"
      },
      "source": [
        "<a href=\"https://colab.research.google.com/github/kskmtsmr-sudo/python-practice/blob/main/20250814.ipynb\" target=\"_parent\"><img src=\"https://colab.research.google.com/assets/colab-badge.svg\" alt=\"Open In Colab\"/></a>"
      ]
    },
    {
      "cell_type": "markdown",
      "source": [
        "0.復習"
      ],
      "metadata": {
        "id": "k3eNRD5iM7MG"
      }
    },
    {
      "cell_type": "code",
      "execution_count": 1,
      "metadata": {
        "id": "phzkIlQMCrFg"
      },
      "outputs": [],
      "source": [
        "import numpy as np"
      ]
    },
    {
      "cell_type": "code",
      "source": [
        "theta = np.pi/4\n",
        "x, y = np.array([1,0]), np.array([0,1])\n",
        "R45 = np.array([np.cos(theta), -np.sin(theta), np.sin(theta), np.cos(theta)],float).reshape(2,2)\n",
        "R45x = np.matmul(R45, x)\n",
        "R45y = np.matmul(R45, y)\n",
        "print(R45x)\n",
        "print(R45y)\n",
        "print(np.allclose(np.linalg.norm(x), np.linalg.norm(R45x)))\n",
        "print(np.allclose(np.linalg.norm(y), np.linalg.norm(R45y)))"
      ],
      "metadata": {
        "colab": {
          "base_uri": "https://localhost:8080/"
        },
        "id": "igtZka9AC705",
        "outputId": "ec5aaa19-bbf3-454f-e2a7-b0b216b3267b"
      },
      "execution_count": 21,
      "outputs": [
        {
          "output_type": "stream",
          "name": "stdout",
          "text": [
            "[0.70710678 0.70710678]\n",
            "[-0.70710678  0.70710678]\n",
            "True\n",
            "True\n"
          ]
        }
      ]
    },
    {
      "cell_type": "code",
      "source": [
        "theta = np.pi/2\n",
        "R = np.array([np.cos(theta), -np.sin(theta), np.sin(theta), np.cos(theta)]).reshape(2,2)\n",
        "S = np.array([2,0,0,0.5]).reshape(2,2)\n",
        "P = np.array([1,1])\n",
        "SR = S @ R\n",
        "print(R)\n",
        "print(SR)\n",
        "print(SR @ P)"
      ],
      "metadata": {
        "colab": {
          "base_uri": "https://localhost:8080/"
        },
        "id": "sOR7FnKyDA4b",
        "outputId": "1c8577c1-1588-41a2-d6b4-1d4c967c8042"
      },
      "execution_count": 24,
      "outputs": [
        {
          "output_type": "stream",
          "name": "stdout",
          "text": [
            "[[ 6.123234e-17 -1.000000e+00]\n",
            " [ 1.000000e+00  6.123234e-17]]\n",
            "[[ 1.2246468e-16 -2.0000000e+00]\n",
            " [ 5.0000000e-01  3.0616170e-17]]\n",
            "[-2.   0.5]\n"
          ]
        }
      ]
    },
    {
      "cell_type": "code",
      "source": [
        "A = np.array([3,0,0,2]).reshape(2,2)\n",
        "# Ax == rEx\n",
        "# det(A-rE) = 0\n",
        "vals, vecs = np.linalg.eig(A)\n",
        "print(\"vals:\", vals)\n",
        "print(\"vecs:\", vecs)\n",
        "vals, vecs = np.linalg.eig(A)\n",
        "for lam, v in zip(vals, vecs.T):\n",
        "    print(np.allclose(A @ v, lam * v))  # True になる"
      ],
      "metadata": {
        "colab": {
          "base_uri": "https://localhost:8080/"
        },
        "id": "yWALcYe0DLUy",
        "outputId": "0c62241e-9177-47d6-f0bf-75d4d75b458d"
      },
      "execution_count": 32,
      "outputs": [
        {
          "output_type": "stream",
          "name": "stdout",
          "text": [
            "vals: [3. 2.]\n",
            "vecs: [[1. 0.]\n",
            " [0. 1.]]\n",
            "True\n",
            "True\n"
          ]
        }
      ]
    },
    {
      "cell_type": "code",
      "source": [
        "p = np.array([2,3])\n",
        "XR = np.array([1,0,0,0]).reshape(2,2)\n",
        "YR = np.array([0,0,0,1]).reshape(2,2)\n",
        "print(np.matmul(XR, p))\n",
        "print(YR @ p)"
      ],
      "metadata": {
        "colab": {
          "base_uri": "https://localhost:8080/"
        },
        "id": "GdzQXf-xHxFx",
        "outputId": "011e5d39-b880-4c04-9136-a3d30f54e83a"
      },
      "execution_count": 31,
      "outputs": [
        {
          "output_type": "stream",
          "name": "stdout",
          "text": [
            "[2 0]\n",
            "[0 3]\n"
          ]
        }
      ]
    },
    {
      "cell_type": "code",
      "source": [
        "A = np.array([[3,1],[0,2]], float)\n",
        "vals, vecs = np.linalg.eig(A)\n",
        "print(vals)\n",
        "for lam, v in zip(vals, vecs.T):\n",
        "    print(np.allclose(A @ v, lam * v))"
      ],
      "metadata": {
        "colab": {
          "base_uri": "https://localhost:8080/"
        },
        "id": "2UV9wafIMgdW",
        "outputId": "83625aad-0a25-4f4f-849d-c178ef51f6a4"
      },
      "execution_count": 33,
      "outputs": [
        {
          "output_type": "stream",
          "name": "stdout",
          "text": [
            "[3. 2.]\n",
            "True\n",
            "True\n"
          ]
        }
      ]
    },
    {
      "cell_type": "code",
      "source": [
        "theta = np.pi/3\n",
        "R = np.array([[np.cos(theta), -np.sin(theta)],\n",
        "              [np.sin(theta),  np.cos(theta)]], float)\n",
        "vals, _ = np.linalg.eig(R)\n",
        "print(vals)  # e^{±iθ}（複素数）→ 実固有ベクトルなし"
      ],
      "metadata": {
        "colab": {
          "base_uri": "https://localhost:8080/"
        },
        "id": "XknkLaroO1wl",
        "outputId": "cce71280-5269-4268-d920-07e84c799308"
      },
      "execution_count": 34,
      "outputs": [
        {
          "output_type": "stream",
          "name": "stdout",
          "text": [
            "[0.5+0.8660254j 0.5-0.8660254j]\n"
          ]
        }
      ]
    },
    {
      "cell_type": "markdown",
      "source": [
        "新パターンで順序違いを試す\n",
        "\n",
        "回転＋反射、反射＋回転\n",
        "\n",
        "スケーリング＋射影、射影＋スケーリング"
      ],
      "metadata": {
        "id": "bGvxJfoZ3a1r"
      }
    },
    {
      "cell_type": "code",
      "source": [
        "#回転＋反射\n"
      ],
      "metadata": {
        "id": "Doz1XGIKRVXX"
      },
      "execution_count": null,
      "outputs": []
    },
    {
      "cell_type": "code",
      "source": [],
      "metadata": {
        "id": "PjkqZX6h4Qok"
      },
      "execution_count": null,
      "outputs": []
    }
  ]
}