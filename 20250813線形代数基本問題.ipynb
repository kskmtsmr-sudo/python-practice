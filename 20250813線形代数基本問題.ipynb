{
  "nbformat": 4,
  "nbformat_minor": 0,
  "metadata": {
    "colab": {
      "provenance": [],
      "authorship_tag": "ABX9TyM8YZsMzp57kDbsTyVJ8lws",
      "include_colab_link": true
    },
    "kernelspec": {
      "name": "python3",
      "display_name": "Python 3"
    },
    "language_info": {
      "name": "python"
    }
  },
  "cells": [
    {
      "cell_type": "markdown",
      "metadata": {
        "id": "view-in-github",
        "colab_type": "text"
      },
      "source": [
        "<a href=\"https://colab.research.google.com/github/kskmtsmr-sudo/python-practice/blob/main/20250813%E7%B7%9A%E5%BD%A2%E4%BB%A3%E6%95%B0%E5%9F%BA%E6%9C%AC%E5%95%8F%E9%A1%8C.ipynb\" target=\"_parent\"><img src=\"https://colab.research.google.com/assets/colab-badge.svg\" alt=\"Open In Colab\"/></a>"
      ]
    },
    {
      "cell_type": "markdown",
      "source": [
        "線形変換\n",
        "A.定義確認\n",
        "1.線形性の確認"
      ],
      "metadata": {
        "id": "v08mgW7B_CWt"
      }
    },
    {
      "cell_type": "code",
      "execution_count": 1,
      "metadata": {
        "id": "7fs8mzgm6_ht"
      },
      "outputs": [],
      "source": [
        "import numpy as np"
      ]
    },
    {
      "cell_type": "code",
      "source": [
        "A = np.array([[2,0],[0,3]]).reshape(2,2)\n",
        "u = np.array([1,2])\n",
        "v = np.array([3,4])\n",
        "c = 5\n",
        "print(A)\n",
        "print(u)\n",
        "print(v)"
      ],
      "metadata": {
        "colab": {
          "base_uri": "https://localhost:8080/"
        },
        "id": "I0EL65D3_Xno",
        "outputId": "1d877d8b-8cd4-4014-d9fd-d737972315ef"
      },
      "execution_count": 6,
      "outputs": [
        {
          "output_type": "stream",
          "name": "stdout",
          "text": [
            "[[2 0]\n",
            " [0 3]]\n",
            "[1 2]\n",
            "[3 4]\n"
          ]
        }
      ]
    },
    {
      "cell_type": "code",
      "source": [
        "Tu = np.matmul(A,u)\n",
        "Tv = np.matmul(A,v)\n",
        "left_add = np.matmul(A,u+v)\n",
        "right_add = Tu + Tv\n",
        "print(\"加法性：\", np.allclose(left_add, right_add))\n",
        "\n",
        "left_scaler =  np.matmul(A,c*u)\n",
        "right_scaler = c * Tu\n",
        "print(\"スカラー倍の分配性：\", np.allclose(left_scaler, right_scaler))"
      ],
      "metadata": {
        "colab": {
          "base_uri": "https://localhost:8080/"
        },
        "id": "UbZxWRQV_hZA",
        "outputId": "c4a7925c-0bf7-4477-9064-0bda3b0b0699"
      },
      "execution_count": 42,
      "outputs": [
        {
          "output_type": "stream",
          "name": "stdout",
          "text": [
            "加法性： True\n",
            "スカラー倍の分配性： True\n"
          ]
        }
      ]
    },
    {
      "cell_type": "markdown",
      "source": [
        "B.幾何的な効果\n",
        "2.スケーリング変換"
      ],
      "metadata": {
        "id": "9ZTsxtfECo0o"
      }
    },
    {
      "cell_type": "code",
      "source": [
        "A = np.array([[2,0],[0,0.5]])\n",
        "x = np.array([1,1])\n",
        "y = np.array([0,2])"
      ],
      "metadata": {
        "id": "VLphhI4kCDKa"
      },
      "execution_count": 46,
      "outputs": []
    },
    {
      "cell_type": "code",
      "source": [
        "Ax = np.matmul(A,x)\n",
        "Ay = np.matmul(A,y)\n",
        "print(Ax)\n",
        "print(Ay)\n",
        "print(np.linalg.norm(x))\n",
        "print(np.linalg.norm(Ax))\n",
        "print(np.linalg.norm(y))\n",
        "print(np.linalg.norm(Ay))"
      ],
      "metadata": {
        "colab": {
          "base_uri": "https://localhost:8080/"
        },
        "id": "zbANlNcrDXee",
        "outputId": "b8ad2008-9de9-41a4-82cd-2d0bfc86ace7"
      },
      "execution_count": 49,
      "outputs": [
        {
          "output_type": "stream",
          "name": "stdout",
          "text": [
            "[2.  0.5]\n",
            "[0. 1.]\n",
            "1.4142135623730951\n",
            "2.0615528128088303\n",
            "2.0\n",
            "1.0\n"
          ]
        }
      ]
    },
    {
      "cell_type": "markdown",
      "source": [
        "3.反射変換(X軸対称)"
      ],
      "metadata": {
        "id": "Idpj93U8EHvz"
      }
    },
    {
      "cell_type": "code",
      "source": [
        "x = np.array([2,3])\n",
        "A = np.array([1,0,0,-1]).reshape(2,2)\n",
        "print(np.matmul(A,x))"
      ],
      "metadata": {
        "colab": {
          "base_uri": "https://localhost:8080/"
        },
        "id": "e0czLH4mDlzr",
        "outputId": "31a0f098-bfca-449a-c601-497dfc5f9d5b"
      },
      "execution_count": 51,
      "outputs": [
        {
          "output_type": "stream",
          "name": "stdout",
          "text": [
            "[ 2 -3]\n"
          ]
        }
      ]
    },
    {
      "cell_type": "markdown",
      "source": [
        "C.回転変換\n",
        "4.回転行列の適用  "
      ],
      "metadata": {
        "id": "LNuomlxgFeQ_"
      }
    },
    {
      "cell_type": "code",
      "source": [
        "theta = np.pi/4\n",
        "ex = np.array([1,0])\n",
        "ey = np.array([0,1])\n",
        "R = np.array([np.cos(theta), -np.sin(theta), np.sin(theta), np.cos(theta)]).reshape(2,2)\n",
        "print(R)\n",
        "print(np.matmul(R,x))\n",
        "print(np.matmul(R,y))\n",
        "\n",
        "rx, ry = R @ ex, R @ ey\n",
        "print(rx, ry)\n",
        "print(\"長さ保存(ex):\", np.allclose(np.linalg.norm(rx), 1.0))\n",
        "print(\"長さ保存(ey):\", np.allclose(np.linalg.norm(ry), 1.0))\n",
        "print(\"det R:\", np.linalg.det(R))"
      ],
      "metadata": {
        "colab": {
          "base_uri": "https://localhost:8080/"
        },
        "id": "WWyeGKK-FN_M",
        "outputId": "9a0d1cd7-fc13-4e50-ab9f-071e345ecce5"
      },
      "execution_count": 58,
      "outputs": [
        {
          "output_type": "stream",
          "name": "stdout",
          "text": [
            "[[ 0.70710678 -0.70710678]\n",
            " [ 0.70710678  0.70710678]]\n",
            "[-0.70710678  3.53553391]\n",
            "[-0.70710678  0.70710678]\n",
            "[0.70710678 0.70710678] [-0.70710678  0.70710678]\n",
            "長さ保存(ex): True\n",
            "長さ保存(ey): True\n",
            "det R: 1.0\n"
          ]
        }
      ]
    },
    {
      "cell_type": "markdown",
      "source": [
        "D.合成変換\n",
        "5.回転＋スケーリング"
      ],
      "metadata": {
        "id": "GxLYs7detkEe"
      }
    },
    {
      "cell_type": "code",
      "source": [
        "theta = np.pi/2\n",
        "A = np.array([np.cos(theta), -np.sin(theta), np.sin(theta), np.cos(theta)]).reshape(2,2)\n",
        "B = np.array([2,0,0,0.5]).reshape(2,2)\n",
        "S = B @ A\n",
        "p = np.array([1,1])\n",
        "Sp = S @ p\n",
        "print(Sp)"
      ],
      "metadata": {
        "colab": {
          "base_uri": "https://localhost:8080/"
        },
        "id": "UnYFPXAoFyV1",
        "outputId": "16693873-9dda-41c4-90cc-82c524f8ef91"
      },
      "execution_count": 11,
      "outputs": [
        {
          "output_type": "stream",
          "name": "stdout",
          "text": [
            "[-2.   0.5]\n"
          ]
        }
      ]
    },
    {
      "cell_type": "code",
      "source": [
        "# D 仕上げ：非可換性チェック\n",
        "R90 = np.array([[0,-1],[1,0]], float)\n",
        "S   = np.array([[2,0],[0,0.5]], float)\n",
        "p   = np.array([1,1], float)\n",
        "print(\"S@R90@p =\", (S @ R90) @ p)\n",
        "print(\"R90@S@p =\", (R90 @ S) @ p)"
      ],
      "metadata": {
        "colab": {
          "base_uri": "https://localhost:8080/"
        },
        "id": "4bvTFJoP8AK-",
        "outputId": "c2803f51-91d1-4673-89ef-5fd258aea7b2"
      },
      "execution_count": 20,
      "outputs": [
        {
          "output_type": "stream",
          "name": "stdout",
          "text": [
            "S@R90@p = [-2.   0.5]\n",
            "R90@S@p = [-0.5  2. ]\n"
          ]
        }
      ]
    },
    {
      "cell_type": "code",
      "source": [
        "#追加の問題１R45＝pi/4 R210=7pi/6 B =([[-2,0],[0,2]])\n",
        "R45 = np.array([np.cos(np.pi/4), -np.sin(np.pi/4), np.sin(np.pi/4), np.cos(np.pi/4)]).reshape(2,2)\n",
        "B = np.array([[-2,0],[0,2]]).reshape(2,2)\n",
        "S = B @ R45\n",
        "S2 = R45 @ B\n",
        "p = np.array([1,1])\n",
        "Sp = S @ p\n",
        "Sp2 = S2 @ p\n",
        "print(Sp)\n",
        "print(Sp2)\n",
        "\n",
        "R210 = np.array([[np.cos(7*np.pi/6), -np.sin(7*np.pi/6)],\n",
        "                 [np.sin(7*np.pi/6),  np.cos(7*np.pi/6)]])\n",
        "print((B @ R210) @ p)   # 先に回転\n",
        "print((R210 @ B) @ p)   # 先にスケーリング\n"
      ],
      "metadata": {
        "colab": {
          "base_uri": "https://localhost:8080/"
        },
        "id": "hzrDXaw09Jqr",
        "outputId": "1dab9f2a-a6b1-4565-d8e0-afc726900f72"
      },
      "execution_count": 28,
      "outputs": [
        {
          "output_type": "stream",
          "name": "stdout",
          "text": [
            "[-2.22044605e-16  2.82842712e+00]\n",
            "[-2.82842712e+00  2.22044605e-16]\n",
            "[ 0.73205081 -2.73205081]\n",
            "[ 2.73205081 -0.73205081]\n"
          ]
        }
      ]
    },
    {
      "cell_type": "markdown",
      "source": [
        "E.固有値と幾何的意味\n",
        "6.固有ベクトルの方向不変性"
      ],
      "metadata": {
        "id": "gA6ikGg2xTNs"
      }
    },
    {
      "cell_type": "code",
      "source": [
        "#A=[[3,0],[0,2]]の固有値r,固有ベクトルx([a,b]),2*2の単位ベクトルE[[1,0],[0,1]]\n",
        "E = np.identity(2)\n",
        "#det(A-rE)=0\n",
        "#det([[3,0],[0,2]]-[r,0][0,r])=0\n",
        "#det([[3-r,0],[0,2-r]])=0\n",
        "#(3-r)(2-r)=0\n",
        "#r = 2,3\n",
        "#r = 2のとき\n",
        "#(A-2E)x=([[1,0],[0,0]])([a,b])=0,a=0,b=1⇒x=([0,1])\n",
        "#r = 3のとき\n",
        "#(A-3E)x=([[0,0],[0,-1]])([a,b])=0,a=1,b=0⇒x=([1,0])\n",
        "EIG = np.linalg.eig(A)\n",
        "print(EIG)"
      ],
      "metadata": {
        "colab": {
          "base_uri": "https://localhost:8080/"
        },
        "id": "yDzufhnxv9ml",
        "outputId": "80aa9f30-7802-4815-ddac-0c6b6c8344e4"
      },
      "execution_count": 27,
      "outputs": [
        {
          "output_type": "stream",
          "name": "stdout",
          "text": [
            "EigResult(eigenvalues=array([3., 2.]), eigenvectors=array([[1., 0.],\n",
            "       [0., 1.]]))\n"
          ]
        }
      ]
    },
    {
      "cell_type": "code",
      "source": [
        "A = np.array([[3,0],[0,2]], float)\n",
        "vals, vecs = np.linalg.eig(A)\n",
        "for lam, v in zip(vals, vecs.T):      # vecsの列が固有ベクトル\n",
        "    Av = A @ v\n",
        "    print(lam, np.allclose(Av, lam*v))  # True になるはず"
      ],
      "metadata": {
        "colab": {
          "base_uri": "https://localhost:8080/"
        },
        "id": "e8OWw3EV7kcw",
        "outputId": "30ba7acf-0245-40cf-fe62-fe10d76c3703"
      },
      "execution_count": 16,
      "outputs": [
        {
          "output_type": "stream",
          "name": "stdout",
          "text": [
            "3.0 True\n",
            "2.0 True\n"
          ]
        }
      ]
    },
    {
      "cell_type": "code",
      "source": [
        "#Additional\n",
        "A = np.array([2,1,0,3]).reshape(2,2)\n",
        "vals, vecs = np.linalg.eig(A)\n",
        "for lam, v in zip(vals, vecs.T):\n",
        "    print(lam, np.allclose(A@v, lam*v))"
      ],
      "metadata": {
        "colab": {
          "base_uri": "https://localhost:8080/"
        },
        "id": "axIMLEweAshR",
        "outputId": "5fb16c75-c3cf-4667-c916-76238368ad8b"
      },
      "execution_count": 31,
      "outputs": [
        {
          "output_type": "stream",
          "name": "stdout",
          "text": [
            "2.0 True\n",
            "3.0 True\n"
          ]
        }
      ]
    },
    {
      "cell_type": "code",
      "source": [
        "# E 仕上げ：方向不変 Av = λv の確認\n",
        "A = np.array([[3,0],[0,2]], float)\n",
        "vals, vecs = np.linalg.eig(A)\n",
        "for lam, v in zip(vals, vecs.T):\n",
        "    print(\"lam:\", lam, \"ok?:\", np.allclose(A @ v, lam*v))"
      ],
      "metadata": {
        "colab": {
          "base_uri": "https://localhost:8080/"
        },
        "id": "ZH0RRl5D8Dst",
        "outputId": "c9958eef-67d9-4b91-d1de-531cafe8c90b"
      },
      "execution_count": 21,
      "outputs": [
        {
          "output_type": "stream",
          "name": "stdout",
          "text": [
            "lam: 3.0 ok?: True\n",
            "lam: 2.0 ok?: True\n"
          ]
        }
      ]
    },
    {
      "cell_type": "markdown",
      "source": [
        "F.射影\n",
        "7.X軸への射影"
      ],
      "metadata": {
        "id": "6s2QWdW75MxG"
      }
    },
    {
      "cell_type": "code",
      "source": [
        "x = np.array([2,3])\n",
        "P = np.array([1,0,0,0]).reshape(2,2)\n",
        "print(np.matmul(P,x))"
      ],
      "metadata": {
        "colab": {
          "base_uri": "https://localhost:8080/"
        },
        "id": "OV-2yuYs5MZs",
        "outputId": "d515fea3-1899-4d5c-cf7c-415a33022d52"
      },
      "execution_count": 18,
      "outputs": [
        {
          "output_type": "stream",
          "name": "stdout",
          "text": [
            "[2 0]\n"
          ]
        }
      ]
    },
    {
      "cell_type": "code",
      "source": [
        "# F 仕上げ：射影の冪等性\n",
        "P = np.array([[1,0],[0,0]], float)\n",
        "x = np.array([2,3], float)\n",
        "print(\"P(Px)=Px ?\", np.allclose(P @ (P @ x), P @ x))\n",
        "print(\"P^2 = P ?\", np.allclose(P @ P, P))"
      ],
      "metadata": {
        "colab": {
          "base_uri": "https://localhost:8080/"
        },
        "id": "KDZhvWTRv-3V",
        "outputId": "9a3839ca-17b8-4bb6-b6d0-95acec61d037"
      },
      "execution_count": 22,
      "outputs": [
        {
          "output_type": "stream",
          "name": "stdout",
          "text": [
            "P(Px)=Px ? True\n",
            "P^2 = P ? True\n"
          ]
        }
      ]
    },
    {
      "cell_type": "code",
      "source": [],
      "metadata": {
        "id": "4jJibAJt7wvj"
      },
      "execution_count": null,
      "outputs": []
    }
  ]
}