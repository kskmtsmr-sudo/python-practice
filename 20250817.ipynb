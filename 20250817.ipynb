{
  "nbformat": 4,
  "nbformat_minor": 0,
  "metadata": {
    "colab": {
      "provenance": [],
      "authorship_tag": "ABX9TyPPsd98IlchAJkwZru5TqSF",
      "include_colab_link": true
    },
    "kernelspec": {
      "name": "python3",
      "display_name": "Python 3"
    },
    "language_info": {
      "name": "python"
    }
  },
  "cells": [
    {
      "cell_type": "markdown",
      "metadata": {
        "id": "view-in-github",
        "colab_type": "text"
      },
      "source": [
        "<a href=\"https://colab.research.google.com/github/kskmtsmr-sudo/python-practice/blob/main/20250817.ipynb\" target=\"_parent\"><img src=\"https://colab.research.google.com/assets/colab-badge.svg\" alt=\"Open In Colab\"/></a>"
      ]
    },
    {
      "cell_type": "markdown",
      "source": [
        "高階関数"
      ],
      "metadata": {
        "id": "6xE0LWgZYGJC"
      }
    },
    {
      "cell_type": "code",
      "execution_count": 4,
      "metadata": {
        "id": "Toprb5ZuGiRC"
      },
      "outputs": [],
      "source": [
        "def max_value_key(d):\n",
        "    return max(d, key= lambda k: d[k])\n"
      ]
    },
    {
      "cell_type": "code",
      "source": [
        "print(max_value_key({3:10, 5:2, 9:1}) == 3)"
      ],
      "metadata": {
        "colab": {
          "base_uri": "https://localhost:8080/"
        },
        "id": "yE9h-xgMH21C",
        "outputId": "52435ebf-1e58-4168-df3b-3e22ca51e47f"
      },
      "execution_count": 5,
      "outputs": [
        {
          "output_type": "stream",
          "name": "stdout",
          "text": [
            "True\n"
          ]
        }
      ]
    },
    {
      "cell_type": "code",
      "source": [
        "def max_abs(ln):\n",
        "    return max(map(abs, ln))"
      ],
      "metadata": {
        "id": "iePt2hJRH6KT"
      },
      "execution_count": 8,
      "outputs": []
    },
    {
      "cell_type": "code",
      "source": [
        "print(max_abs([3,-8,1,0,7,-5]) == 8)"
      ],
      "metadata": {
        "colab": {
          "base_uri": "https://localhost:8080/"
        },
        "id": "fie-kQrVMLw2",
        "outputId": "b0b53926-54cd-4e32-f54b-d7aabac48ce9"
      },
      "execution_count": 9,
      "outputs": [
        {
          "output_type": "stream",
          "name": "stdout",
          "text": [
            "True\n"
          ]
        }
      ]
    },
    {
      "cell_type": "code",
      "source": [
        "def number_of_big_numbers(ln, n):\n",
        "    return sum(map(lambda x: 1, filter(lambda x: x>n, ln)))"
      ],
      "metadata": {
        "id": "hgReZvQiMNnH"
      },
      "execution_count": null,
      "outputs": []
    },
    {
      "cell_type": "code",
      "source": [
        "def number_of_long_lines(file, n):\n",
        "    with open(file, 'r', encoding='utf-8') as f:\n",
        "        return  sum(map(lambda x: 1, dilter(lambda x: len(x)>n, f)))"
      ],
      "metadata": {
        "id": "hBCckiIlPyGo"
      },
      "execution_count": 11,
      "outputs": []
    },
    {
      "cell_type": "markdown",
      "source": [
        "numpy配列"
      ],
      "metadata": {
        "id": "_4aMvQmPYKDM"
      }
    },
    {
      "cell_type": "code",
      "source": [
        "import numpy as np\n",
        "a = np.array([1,2,3])\n",
        "print(a)\n",
        "b = np.array((1,2,3))\n",
        "print(b)"
      ],
      "metadata": {
        "colab": {
          "base_uri": "https://localhost:8080/"
        },
        "id": "nmByo4U_Qauq",
        "outputId": "8ac16d3a-1f6b-48cb-f2b2-7a3e008f4b96"
      },
      "execution_count": 14,
      "outputs": [
        {
          "output_type": "stream",
          "name": "stdout",
          "text": [
            "[1 2 3]\n",
            "[1 2 3]\n"
          ]
        }
      ]
    },
    {
      "cell_type": "code",
      "source": [
        "print(np.array([[1,2],[3,4]]))"
      ],
      "metadata": {
        "colab": {
          "base_uri": "https://localhost:8080/"
        },
        "id": "6NXp2vmdYSOz",
        "outputId": "af55a520-7e95-4617-f981-dcbf0d452ec5"
      },
      "execution_count": 16,
      "outputs": [
        {
          "output_type": "stream",
          "name": "stdout",
          "text": [
            "[[1 2]\n",
            " [3 4]]\n"
          ]
        }
      ]
    },
    {
      "cell_type": "code",
      "source": [
        "print(np.array([[[2,3],[3,4]],[[5,6],[7,8]]]))"
      ],
      "metadata": {
        "colab": {
          "base_uri": "https://localhost:8080/"
        },
        "id": "trRIP_flYwEz",
        "outputId": "a68dba5b-be05-4396-aea9-74ce5e2480d5"
      },
      "execution_count": 17,
      "outputs": [
        {
          "output_type": "stream",
          "name": "stdout",
          "text": [
            "[[[2 3]\n",
            "  [3 4]]\n",
            "\n",
            " [[5 6]\n",
            "  [7 8]]]\n"
          ]
        }
      ]
    },
    {
      "cell_type": "code",
      "source": [
        "a1 = np.array([0,1,2,3,4,5])\n",
        "a2 = a1.reshape(2,3)\n",
        "a2"
      ],
      "metadata": {
        "colab": {
          "base_uri": "https://localhost:8080/"
        },
        "id": "QIQ8vv4TZF71",
        "outputId": "48ca2176-a9b8-426c-976f-19293e0f7dab"
      },
      "execution_count": 19,
      "outputs": [
        {
          "output_type": "execute_result",
          "data": {
            "text/plain": [
              "array([[0, 1, 2],\n",
              "       [3, 4, 5]])"
            ]
          },
          "metadata": {},
          "execution_count": 19
        }
      ]
    },
    {
      "cell_type": "code",
      "source": [
        "a2.ravel()"
      ],
      "metadata": {
        "colab": {
          "base_uri": "https://localhost:8080/"
        },
        "id": "29KN5shGZY-j",
        "outputId": "3141f960-a64e-4b95-c9a8-40a61015bb55"
      },
      "execution_count": 20,
      "outputs": [
        {
          "output_type": "execute_result",
          "data": {
            "text/plain": [
              "array([0, 1, 2, 3, 4, 5])"
            ]
          },
          "metadata": {},
          "execution_count": 20
        }
      ]
    },
    {
      "cell_type": "code",
      "source": [
        "print(np.arange(3))\n",
        "print(np.arange(0,1,0.2))"
      ],
      "metadata": {
        "colab": {
          "base_uri": "https://localhost:8080/"
        },
        "id": "mdCzAp5yZidK",
        "outputId": "a99d26ab-4da6-4ab9-c27b-c337d0c1c71c"
      },
      "execution_count": 22,
      "outputs": [
        {
          "output_type": "stream",
          "name": "stdout",
          "text": [
            "[0 1 2]\n",
            "[0.  0.2 0.4 0.6 0.8]\n"
          ]
        }
      ]
    },
    {
      "cell_type": "code",
      "source": [
        "print(np.linspace(0,1,3))"
      ],
      "metadata": {
        "colab": {
          "base_uri": "https://localhost:8080/"
        },
        "id": "IoNJ9h6TZ_JH",
        "outputId": "e439b0c9-73f1-4ab9-d209-7659a7238b42"
      },
      "execution_count": 24,
      "outputs": [
        {
          "output_type": "stream",
          "name": "stdout",
          "text": [
            "[0.  0.5 1. ]\n"
          ]
        }
      ]
    },
    {
      "cell_type": "code",
      "source": [
        "print(np.zeros(4))\n",
        "print(np.zeros((2,3)))\n",
        "print(np.ones(4))\n",
        "print(np.ones((2,3)))"
      ],
      "metadata": {
        "colab": {
          "base_uri": "https://localhost:8080/"
        },
        "id": "OdB_tuMXaKaa",
        "outputId": "443d758b-5bac-4cf5-eefe-605d3a6b53e5"
      },
      "execution_count": 27,
      "outputs": [
        {
          "output_type": "stream",
          "name": "stdout",
          "text": [
            "[0. 0. 0. 0.]\n",
            "[[0. 0. 0.]\n",
            " [0. 0. 0.]]\n",
            "[1. 1. 1. 1.]\n",
            "[[1. 1. 1.]\n",
            " [1. 1. 1.]]\n"
          ]
        }
      ]
    },
    {
      "cell_type": "code",
      "source": [
        "print(np.random.randn(4))\n",
        "print(np.random.randn(2,3))"
      ],
      "metadata": {
        "colab": {
          "base_uri": "https://localhost:8080/"
        },
        "id": "Ml1cVm7qaXtC",
        "outputId": "6442dbb2-1530-4e37-b695-2a01e45dd02b"
      },
      "execution_count": 31,
      "outputs": [
        {
          "output_type": "stream",
          "name": "stdout",
          "text": [
            "[ 0.24436233  0.17623679 -0.30949397 -0.61508457]\n",
            "[[-1.1053927  -0.11207726  0.49480627]\n",
            " [ 1.01035326 -0.30761945 -0.27350007]]\n"
          ]
        }
      ]
    },
    {
      "cell_type": "code",
      "source": [
        "print(np.random.poisson(6,3))"
      ],
      "metadata": {
        "colab": {
          "base_uri": "https://localhost:8080/"
        },
        "id": "hC5nseedasMl",
        "outputId": "fb270a35-d1ca-488b-cbb0-9b0f993dd0b5"
      },
      "execution_count": 42,
      "outputs": [
        {
          "output_type": "stream",
          "name": "stdout",
          "text": [
            "[6 9 9]\n"
          ]
        }
      ]
    },
    {
      "cell_type": "code",
      "source": [
        "def arange_square_matrix(n):\n",
        "    return np.array([np.arange(i, n+i) for i in range(n)])"
      ],
      "metadata": {
        "id": "I52DLpi_a4HW"
      },
      "execution_count": 55,
      "outputs": []
    },
    {
      "cell_type": "code",
      "source": [
        "print(all(map(all,(arange_square_matrix(3) == np.array([[0,1,2],[1,2,3],[2,3,4]])))))"
      ],
      "metadata": {
        "colab": {
          "base_uri": "https://localhost:8080/"
        },
        "id": "RjBYu2j0gg-Q",
        "outputId": "59069a1b-a066-439c-aa89-c5e2b03f39c9"
      },
      "execution_count": 56,
      "outputs": [
        {
          "output_type": "stream",
          "name": "stdout",
          "text": [
            "True\n"
          ]
        }
      ]
    },
    {
      "cell_type": "code",
      "source": [],
      "metadata": {
        "id": "LGRLObLJhDHK"
      },
      "execution_count": null,
      "outputs": []
    }
  ]
}