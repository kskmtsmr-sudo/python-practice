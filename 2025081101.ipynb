{
  "nbformat": 4,
  "nbformat_minor": 0,
  "metadata": {
    "colab": {
      "provenance": [],
      "authorship_tag": "ABX9TyMs4tYi5LECpO8F1p46IOBl",
      "include_colab_link": true
    },
    "kernelspec": {
      "name": "python3",
      "display_name": "Python 3"
    },
    "language_info": {
      "name": "python"
    }
  },
  "cells": [
    {
      "cell_type": "markdown",
      "metadata": {
        "id": "view-in-github",
        "colab_type": "text"
      },
      "source": [
        "<a href=\"https://colab.research.google.com/github/kskmtsmr-sudo/python-practice/blob/main/2025081101.ipynb\" target=\"_parent\"><img src=\"https://colab.research.google.com/assets/colab-badge.svg\" alt=\"Open In Colab\"/></a>"
      ]
    },
    {
      "cell_type": "code",
      "execution_count": 1,
      "metadata": {
        "id": "-6SkvKriv-4d"
      },
      "outputs": [],
      "source": [
        "import numpy as np"
      ]
    },
    {
      "cell_type": "markdown",
      "source": [
        "A.ベクトルの基本操作"
      ],
      "metadata": {
        "id": "Hb-LpRgxxUij"
      }
    },
    {
      "cell_type": "code",
      "source": [
        "np.arange(1,6)"
      ],
      "metadata": {
        "colab": {
          "base_uri": "https://localhost:8080/"
        },
        "id": "zZBIusNAwLpU",
        "outputId": "16e17071-e66b-4012-add5-d40bb697f83e"
      },
      "execution_count": 3,
      "outputs": [
        {
          "output_type": "execute_result",
          "data": {
            "text/plain": [
              "array([1, 2, 3, 4, 5])"
            ]
          },
          "metadata": {},
          "execution_count": 3
        }
      ]
    },
    {
      "cell_type": "code",
      "source": [
        "np.arange(1,6)*2"
      ],
      "metadata": {
        "colab": {
          "base_uri": "https://localhost:8080/"
        },
        "id": "QtrzdGLowOZT",
        "outputId": "173e09da-1bb5-454c-ae3c-1fa4ea24df79"
      },
      "execution_count": 4,
      "outputs": [
        {
          "output_type": "execute_result",
          "data": {
            "text/plain": [
              "array([ 2,  4,  6,  8, 10])"
            ]
          },
          "metadata": {},
          "execution_count": 4
        }
      ]
    },
    {
      "cell_type": "code",
      "source": [
        "v1 = np.arange(1,4)\n",
        "v2 = np.arange(4,7)"
      ],
      "metadata": {
        "id": "9bThSO9CwYuM"
      },
      "execution_count": 5,
      "outputs": []
    },
    {
      "cell_type": "code",
      "source": [
        "print(v1+v2)\n",
        "print(v1-v2)"
      ],
      "metadata": {
        "colab": {
          "base_uri": "https://localhost:8080/"
        },
        "id": "sbGBs1zSwmBQ",
        "outputId": "9e012e8b-b343-490c-9041-21a278869639"
      },
      "execution_count": 12,
      "outputs": [
        {
          "output_type": "stream",
          "name": "stdout",
          "text": [
            "[5 7 9]\n",
            "[-3 -3 -3]\n"
          ]
        }
      ]
    },
    {
      "cell_type": "code",
      "source": [
        "v = np.array([3,-1,2])\n",
        "v"
      ],
      "metadata": {
        "colab": {
          "base_uri": "https://localhost:8080/"
        },
        "id": "oLv8dVWNwnDo",
        "outputId": "ce72fd76-b13a-4191-af5a-86786fce36a4"
      },
      "execution_count": 15,
      "outputs": [
        {
          "output_type": "execute_result",
          "data": {
            "text/plain": [
              "array([ 3, -1,  2])"
            ]
          },
          "metadata": {},
          "execution_count": 15
        }
      ]
    },
    {
      "cell_type": "code",
      "source": [
        "v * 3"
      ],
      "metadata": {
        "colab": {
          "base_uri": "https://localhost:8080/"
        },
        "id": "GjUtdeJKwndv",
        "outputId": "7b254b77-d83c-4402-b2ca-4ac462ba810c"
      },
      "execution_count": 16,
      "outputs": [
        {
          "output_type": "execute_result",
          "data": {
            "text/plain": [
              "array([ 9, -3,  6])"
            ]
          },
          "metadata": {},
          "execution_count": 16
        }
      ]
    },
    {
      "cell_type": "markdown",
      "source": [
        "B.内積・外積・ノルム"
      ],
      "metadata": {
        "id": "r0ZlDtxixZEQ"
      }
    },
    {
      "cell_type": "code",
      "source": [
        "v1 = np.array([1,2,3])\n",
        "v2 = np.array([-1,0,4])\n",
        "print(v1*v2)\n",
        "print(np.dot(v1,v2))"
      ],
      "metadata": {
        "colab": {
          "base_uri": "https://localhost:8080/"
        },
        "id": "1Wqkk81BwruT",
        "outputId": "bd3a55c4-f69d-43df-80e5-27cc592188b3"
      },
      "execution_count": 25,
      "outputs": [
        {
          "output_type": "stream",
          "name": "stdout",
          "text": [
            "[-1  0 12]\n",
            "11\n"
          ]
        }
      ]
    },
    {
      "cell_type": "code",
      "source": [
        "v1 = np.array([1,0,0])\n",
        "v2 = np.array([0,1,0])\n",
        "cross = np.cross(v1,v2)\n",
        "print(cross)"
      ],
      "metadata": {
        "colab": {
          "base_uri": "https://localhost:8080/"
        },
        "id": "N4IEkZBgw12W",
        "outputId": "e5f017e3-9863-4f6b-91a4-82f4f0931dca"
      },
      "execution_count": 18,
      "outputs": [
        {
          "output_type": "stream",
          "name": "stdout",
          "text": [
            "[0 0 1]\n"
          ]
        }
      ]
    },
    {
      "cell_type": "code",
      "source": [
        "v = [3,4]\n",
        "L2 = np.sqrt(v[0]**2+v[1]**2)\n",
        "print(L2)\n",
        "print(np.linalg.norm(v))"
      ],
      "metadata": {
        "colab": {
          "base_uri": "https://localhost:8080/"
        },
        "id": "p8jbmICAzYVa",
        "outputId": "f035ddb1-94a2-4d46-81ec-bcabf21da7a9"
      },
      "execution_count": 30,
      "outputs": [
        {
          "output_type": "stream",
          "name": "stdout",
          "text": [
            "5.0\n",
            "5.0\n"
          ]
        }
      ]
    },
    {
      "cell_type": "markdown",
      "source": [
        "C.行列の基本操作"
      ],
      "metadata": {
        "id": "mEOUpNtOzvfn"
      }
    },
    {
      "cell_type": "code",
      "source": [
        "v2 = np.arange(1,10).reshape(3,3)"
      ],
      "metadata": {
        "id": "E6hFtkw-zqtV"
      },
      "execution_count": 40,
      "outputs": []
    },
    {
      "cell_type": "code",
      "source": [
        "v2.T"
      ],
      "metadata": {
        "colab": {
          "base_uri": "https://localhost:8080/"
        },
        "id": "UvSrnTDvz3K6",
        "outputId": "b08b96cc-5742-4954-ec63-3fc6a54980b9"
      },
      "execution_count": 41,
      "outputs": [
        {
          "output_type": "execute_result",
          "data": {
            "text/plain": [
              "array([[1, 4, 7],\n",
              "       [2, 5, 8],\n",
              "       [3, 6, 9]])"
            ]
          },
          "metadata": {},
          "execution_count": 41
        }
      ]
    },
    {
      "cell_type": "code",
      "source": [
        "v2 = np.arange(1,10).reshape(3,3)\n",
        "v2"
      ],
      "metadata": {
        "colab": {
          "base_uri": "https://localhost:8080/"
        },
        "id": "UeBQ-tUA1I2d",
        "outputId": "e9d638eb-033f-4353-b9a3-e6b15042bf44"
      },
      "execution_count": 47,
      "outputs": [
        {
          "output_type": "execute_result",
          "data": {
            "text/plain": [
              "array([[1, 2, 3],\n",
              "       [4, 5, 6],\n",
              "       [7, 8, 9]])"
            ]
          },
          "metadata": {},
          "execution_count": 47
        }
      ]
    },
    {
      "cell_type": "code",
      "source": [
        "v3 = np.arange(2,11).reshape(3,3)\n",
        "v3"
      ],
      "metadata": {
        "colab": {
          "base_uri": "https://localhost:8080/"
        },
        "id": "1-CTd1sl0tP1",
        "outputId": "8dce0bfc-4fa5-40b8-fa06-9a9a4c7f4ef3"
      },
      "execution_count": 48,
      "outputs": [
        {
          "output_type": "execute_result",
          "data": {
            "text/plain": [
              "array([[ 2,  3,  4],\n",
              "       [ 5,  6,  7],\n",
              "       [ 8,  9, 10]])"
            ]
          },
          "metadata": {},
          "execution_count": 48
        }
      ]
    },
    {
      "cell_type": "code",
      "source": [
        "v2+v3"
      ],
      "metadata": {
        "colab": {
          "base_uri": "https://localhost:8080/"
        },
        "id": "umdyjBh71FJV",
        "outputId": "a85ebcc2-b8e0-4b5f-87d0-d2f510fbdddb"
      },
      "execution_count": 49,
      "outputs": [
        {
          "output_type": "execute_result",
          "data": {
            "text/plain": [
              "array([[ 3,  5,  7],\n",
              "       [ 9, 11, 13],\n",
              "       [15, 17, 19]])"
            ]
          },
          "metadata": {},
          "execution_count": 49
        }
      ]
    },
    {
      "cell_type": "code",
      "source": [
        "v2-v3"
      ],
      "metadata": {
        "colab": {
          "base_uri": "https://localhost:8080/"
        },
        "id": "ovY2ih_F1SEG",
        "outputId": "e2f286de-2cf2-4bc9-a9b0-bf4dd4f09853"
      },
      "execution_count": 50,
      "outputs": [
        {
          "output_type": "execute_result",
          "data": {
            "text/plain": [
              "array([[-1, -1, -1],\n",
              "       [-1, -1, -1],\n",
              "       [-1, -1, -1]])"
            ]
          },
          "metadata": {},
          "execution_count": 50
        }
      ]
    },
    {
      "cell_type": "markdown",
      "source": [
        "D. 行列の積・単位行列   "
      ],
      "metadata": {
        "id": "Fwg9UzQh1Vyl"
      }
    },
    {
      "cell_type": "code",
      "source": [
        "A = np.array([[1,2],[3,4]])\n",
        "B = np.array([[5,6],[7,8]])\n",
        "print(A)\n",
        "print(B)\n",
        "\n",
        "np.matmul(A,B)"
      ],
      "metadata": {
        "colab": {
          "base_uri": "https://localhost:8080/"
        },
        "id": "LcJDTHsk1TYt",
        "outputId": "2b0682d5-e27d-4a2c-d32e-0fd57ad1cebf"
      },
      "execution_count": 54,
      "outputs": [
        {
          "output_type": "stream",
          "name": "stdout",
          "text": [
            "[[1 2]\n",
            " [3 4]]\n",
            "[[5 6]\n",
            " [7 8]]\n"
          ]
        },
        {
          "output_type": "execute_result",
          "data": {
            "text/plain": [
              "array([[19, 22],\n",
              "       [43, 50]])"
            ]
          },
          "metadata": {},
          "execution_count": 54
        }
      ]
    },
    {
      "cell_type": "code",
      "source": [
        "I = np.identity(2)\n",
        "I"
      ],
      "metadata": {
        "colab": {
          "base_uri": "https://localhost:8080/"
        },
        "id": "4lse0P-g2hEe",
        "outputId": "9f68789b-a364-4b6f-bf19-b33e27cd4ae0"
      },
      "execution_count": 62,
      "outputs": [
        {
          "output_type": "execute_result",
          "data": {
            "text/plain": [
              "array([[1., 0.],\n",
              "       [0., 1.]])"
            ]
          },
          "metadata": {},
          "execution_count": 62
        }
      ]
    },
    {
      "cell_type": "code",
      "source": [
        "print(A)\n",
        "AA = np.matmul(A,I)\n",
        "AA"
      ],
      "metadata": {
        "colab": {
          "base_uri": "https://localhost:8080/"
        },
        "id": "ncOgQ8qa2p8p",
        "outputId": "0c6f01f3-47ec-44ac-cf79-15f563d3f67d"
      },
      "execution_count": 78,
      "outputs": [
        {
          "output_type": "stream",
          "name": "stdout",
          "text": [
            "[[2 0]\n",
            " [0 3]]\n"
          ]
        },
        {
          "output_type": "execute_result",
          "data": {
            "text/plain": [
              "array([[2., 0.],\n",
              "       [0., 3.]])"
            ]
          },
          "metadata": {},
          "execution_count": 78
        }
      ]
    },
    {
      "cell_type": "markdown",
      "source": [
        "E.逆行列・連立方程式"
      ],
      "metadata": {
        "id": "BHaZ2LPO1VeX"
      }
    },
    {
      "cell_type": "code",
      "source": [
        "A = np.array([[4,7],[2,6]])\n",
        "A"
      ],
      "metadata": {
        "colab": {
          "base_uri": "https://localhost:8080/"
        },
        "id": "MnZpbL0K3aM_",
        "outputId": "2ffe980a-f479-4d47-dda8-5f6dee049df5"
      },
      "execution_count": 67,
      "outputs": [
        {
          "output_type": "execute_result",
          "data": {
            "text/plain": [
              "array([[4, 7],\n",
              "       [2, 6]])"
            ]
          },
          "metadata": {},
          "execution_count": 67
        }
      ]
    },
    {
      "cell_type": "code",
      "source": [
        "np.linalg.inv(A)"
      ],
      "metadata": {
        "colab": {
          "base_uri": "https://localhost:8080/"
        },
        "id": "ATNW75ii3iS4",
        "outputId": "4c6d78cc-5849-40cf-bf64-f5370f11782d"
      },
      "execution_count": 66,
      "outputs": [
        {
          "output_type": "execute_result",
          "data": {
            "text/plain": [
              "array([[ 0.6, -0.7],\n",
              "       [-0.2,  0.4]])"
            ]
          },
          "metadata": {},
          "execution_count": 66
        }
      ]
    },
    {
      "cell_type": "markdown",
      "source": [
        "2*x + y == 5、\n",
        "x + 3*y == 8"
      ],
      "metadata": {
        "id": "Swh-3QrD4rAM"
      }
    },
    {
      "cell_type": "code",
      "source": [
        "A = np.array([[2,1],[1,3]])\n",
        "A"
      ],
      "metadata": {
        "colab": {
          "base_uri": "https://localhost:8080/"
        },
        "id": "vOPTbNOV3wvv",
        "outputId": "c0d4f17a-de26-4ea5-96a1-384a9de211be"
      },
      "execution_count": 71,
      "outputs": [
        {
          "output_type": "execute_result",
          "data": {
            "text/plain": [
              "array([[2, 1],\n",
              "       [1, 3]])"
            ]
          },
          "metadata": {},
          "execution_count": 71
        }
      ]
    },
    {
      "cell_type": "code",
      "source": [
        "A_inv = np.linalg.inv(A)\n",
        "A_inv"
      ],
      "metadata": {
        "colab": {
          "base_uri": "https://localhost:8080/"
        },
        "id": "u9TRrLZ34l43",
        "outputId": "abf2e6cb-8591-4225-87d0-cc8bb11a7000"
      },
      "execution_count": 74,
      "outputs": [
        {
          "output_type": "execute_result",
          "data": {
            "text/plain": [
              "array([[ 0.6, -0.2],\n",
              "       [-0.2,  0.4]])"
            ]
          },
          "metadata": {},
          "execution_count": 74
        }
      ]
    },
    {
      "cell_type": "code",
      "source": [
        "b = np.array([5, 8])\n",
        "x = A_inv @ b\n",
        "print(x)"
      ],
      "metadata": {
        "colab": {
          "base_uri": "https://localhost:8080/"
        },
        "id": "b8pGP1_pa62m",
        "outputId": "4f1926b1-c1e9-4c0c-b842-c928e3870c79"
      },
      "execution_count": 79,
      "outputs": [
        {
          "output_type": "stream",
          "name": "stdout",
          "text": [
            "[1.4 2.2]\n"
          ]
        }
      ]
    },
    {
      "cell_type": "markdown",
      "source": [
        "F,固有値・固有ベクトル"
      ],
      "metadata": {
        "id": "WG-IMdYL6St0"
      }
    },
    {
      "cell_type": "markdown",
      "source": [
        "A = [[2, 0], [0, 3]] の固有値と固有ベクトルを求める"
      ],
      "metadata": {
        "id": "99Zl8Y5gSO_p"
      }
    },
    {
      "cell_type": "code",
      "source": [
        "A = np.array([[2,0],[0,3]])\n",
        "A"
      ],
      "metadata": {
        "colab": {
          "base_uri": "https://localhost:8080/"
        },
        "id": "g7eMWhTS5C5h",
        "outputId": "07d00818-fe79-4eaf-b0f1-e83c66a4f7f2"
      },
      "execution_count": 76,
      "outputs": [
        {
          "output_type": "execute_result",
          "data": {
            "text/plain": [
              "array([[2, 0],\n",
              "       [0, 3]])"
            ]
          },
          "metadata": {},
          "execution_count": 76
        }
      ]
    },
    {
      "cell_type": "markdown",
      "source": [
        "固有値λ、固有ベクトルx(!=0)、単位行列E\n",
        "Ax = λEx\n",
        "[[2,0]        [[1,0]\n",
        " [0,3]] x = λ [0,1]] x\n",
        "(A-λE)x = 0\n",
        "x = (A-λE)**-1 * 0 = 0\n",
        "⇒ det(A-λE) = 0\n",
        "[[2-λ,0]\n",
        "det( [0,3-λ]]) = 0\n",
        "((2-λ)*(3-λ)-0*0)=λ**2-5λ+6 = 0\n",
        "(λ-3)*(λ-2)=0\n",
        "λ=2,3\n",
        "\n",
        "i,λ=2\n",
        "(A-λE)x=0\n",
        "x =(a、b)\n",
        "[[2-λ,0]\n",
        "[0,3-λ]][a,b]=0\n",
        "[0,0]\n",
        "[0,1][a,b]= 0\n"
      ],
      "metadata": {
        "id": "36wfQe5DScWS"
      }
    },
    {
      "cell_type": "code",
      "source": [
        "vals, vecs = np.linalg.eig(A)\n",
        "print(\"固有値：\", vals)\n",
        "print(\"固有ベクトル：\\n\", vecs)"
      ],
      "metadata": {
        "colab": {
          "base_uri": "https://localhost:8080/"
        },
        "id": "xYD9vwZiSZPA",
        "outputId": "6c797ef3-1404-4652-b45b-34f1d2dcd1db"
      },
      "execution_count": 82,
      "outputs": [
        {
          "output_type": "stream",
          "name": "stdout",
          "text": [
            "固有値： [2. 3.]\n",
            "固有ベクトル：\n",
            " [[1. 0.]\n",
            " [0. 1.]]\n"
          ]
        }
      ]
    },
    {
      "cell_type": "code",
      "source": [],
      "metadata": {
        "id": "U_sk60xEb_-C"
      },
      "execution_count": null,
      "outputs": []
    }
  ]
}